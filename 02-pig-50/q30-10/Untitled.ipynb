{
 "cells": [
  {
   "cell_type": "code",
   "execution_count": 1,
   "metadata": {},
   "outputs": [],
   "source": [
    "%reload_ext bigdata"
   ]
  },
  {
   "cell_type": "code",
   "execution_count": 2,
   "metadata": {},
   "outputs": [],
   "source": [
    "%pig_start"
   ]
  },
  {
   "cell_type": "code",
   "execution_count": 3,
   "metadata": {},
   "outputs": [],
   "source": [
    "%timeout 300"
   ]
  },
  {
   "cell_type": "code",
   "execution_count": 6,
   "metadata": {},
   "outputs": [
    {
     "name": "stdout",
     "output_type": "stream",
     "text": [
      "Deleted data.csv\n"
     ]
    }
   ],
   "source": [
    "!hadoop fs -rm *.csv"
   ]
  },
  {
   "cell_type": "code",
   "execution_count": 7,
   "metadata": {},
   "outputs": [
    {
     "name": "stdout",
     "output_type": "stream",
     "text": [
      " fs -put data.csv\n"
     ]
    }
   ],
   "source": [
    "%%pig\n",
    "fs -put data.csv\n"
   ]
  },
  {
   "cell_type": "code",
   "execution_count": 4,
   "metadata": {},
   "outputs": [
    {
     "name": "stdout",
     "output_type": "stream",
     "text": [
      "Overwriting question.pig\n"
     ]
    }
   ],
   "source": [
    "%%writefile question.pig\n",
    "--\n",
    "fs -rm -f -r output;\n",
    "--\n",
    "data = LOAD 'data.csv' USING PigStorage(',') \n",
    "    AS (id:int, \n",
    "        firstname:CHARARRAY, \n",
    "        surname:CHARARRAY, \n",
    "        birthday:CHARARRAY, \n",
    "        color:CHARARRAY, \n",
    "        quantity:INT);\n",
    "-- Carga el archivo desde el disco duro\n",
    "--data = LOAD 'data.csv' USING PigStorage(',') AS (f1:CHARARRAY, f2:CHARARRAY, f3:CHARARRAY,f4:CHARARRAY, f5:CHARARRAY, f6:CHARARRAY);\n",
    "\n",
    "\n",
    "columns = FOREACH data GENERATE birthday,ToDate(birthday, 'yyyy-MM-dd') AS date:DateTime;\n",
    "columns2 = FOREACH columns GENERATE birthday,ToString(date, 'dd'),ToString(date, 'd'),ToString(date,'EEE'),ToString(date,'EEE');\n",
    "columns3 = FOREACH columns2 GENERATE $0,$1,$2,\n",
    "                                (CASE $3\n",
    "                                          WHEN 'Mon' THEN 'lun'\n",
    "                                          WHEN 'Tue' THEN 'mar'\n",
    "                                          WHEN 'Wed' THEN 'mie'\n",
    "                                          WHEN 'Thu' THEN 'jue'\n",
    "                                          WHEN 'Fri' THEN 'vie'\n",
    "                                          WHEN 'Sat' THEN 'sab'\n",
    "                                          WHEN 'Sun' THEN 'dom' END),\n",
    "                                (CASE $4 \n",
    "                                          WHEN 'Mon' THEN 'lunes'\n",
    "                                          WHEN 'Tue' THEN 'martes'\n",
    "                                          WHEN 'Wed' THEN 'miercoles'\n",
    "                                          WHEN 'Thu' THEN 'jueves'\n",
    "                                          WHEN 'Fri' THEN 'viernes'\n",
    "                                          WHEN 'Sat' THEN 'sabado'\n",
    "                                          WHEN 'Sun' THEN 'domingo' END);\n",
    "\n",
    "\n",
    "--filtro = FILTER columns BY SUBSTRING($0,0,1)>='M';\n",
    "--filtro2 = FILTER filtro BY surname < 'L';\n",
    "\n",
    "--datos2 = FOREACH columns GENERATE $0,SUBSTRING($1,0,3);\n",
    "--datos3 = FOREACH datos2 GENERATE FLATTEN($0),$1;\n",
    "--grouped = GROUP datos3 BY ($0,$1);\n",
    "--conteo = FOREACH grouped GENERATE group, COUNT(datos3);\n",
    "\n",
    "--data2 = FOREACH columns GENERATE \n",
    "\n",
    "\n",
    "--grouped = ORDER columns BY $1 DESC,$0;\n",
    "--s = LIMIT grouped 5;\n",
    "DUMP columns3\n",
    "--DUMP filtro\n",
    "--STORE columns2 INTO 'output' USING PigStorage(',');\n",
    "\n",
    "--fs -get output/ .\n"
   ]
  },
  {
   "cell_type": "code",
   "execution_count": 5,
   "metadata": {},
   "outputs": [
    {
     "name": "stdout",
     "output_type": "stream",
     "text": [
      "2020-03-07 05:08:58,820 [main] INFO  org.apache.hadoop.conf.Configuration.deprecation - mapred.job.tracker is deprecated. Instead, use mapreduce.jobtracker.address\n",
      "2020-03-07 05:09:00,331 [main] INFO  org.apache.hadoop.yarn.client.RMProxy - Connecting to ResourceManager at /0.0.0.0:8032\n",
      "2020-03-07 05:09:00,463 [main] INFO  org.apache.hadoop.conf.Configuration.deprecation - mapred.job.reduce.markreset.buffer.percent is deprecated. Instead, use mapreduce.reduce.markreset.buffer.percent\n",
      "2020-03-07 05:09:00,466 [main] INFO  org.apache.hadoop.conf.Configuration.deprecation - mapred.output.compress is deprecated. Instead, use mapreduce.output.fileoutputformat.compress\n",
      "2020-03-07 05:09:00,477 [main] INFO  org.apache.hadoop.conf.Configuration.deprecation - mapred.submit.replication is deprecated. Instead, use mapreduce.client.submit.file.replication\n",
      "2020-03-07 05:09:01,579 [main] INFO  org.apache.hadoop.conf.Configuration.deprecation - mapred.job.tracker.http.address is deprecated. Instead, use mapreduce.jobtracker.http.address\n",
      "2020-03-07 05:09:01,586 [JobControl] INFO  org.apache.hadoop.yarn.client.RMProxy - Connecting to ResourceManager at /0.0.0.0:8032\n",
      "2020-03-07 05:09:01,599 [JobControl] INFO  org.apache.hadoop.conf.Configuration.deprecation - mapred.task.id is deprecated. Instead, use mapreduce.task.attempt.id\n",
      "2020-03-07 05:09:01,662 [JobControl] WARN  org.apache.hadoop.mapreduce.JobResourceUploader - No job jar file set.  User classes may not be found. See Job or Job#setJar(String).\n",
      "2020-03-07 05:09:01,694 [JobControl] INFO  org.apache.hadoop.mapreduce.lib.input.FileInputFormat - Total input files to process : 1\n",
      "2020-03-07 05:09:01,760 [JobControl] INFO  org.apache.hadoop.mapreduce.JobSubmitter - number of splits:1\n",
      "2020-03-07 05:09:01,864 [JobControl] INFO  org.apache.hadoop.mapreduce.JobSubmitter - Submitting tokens for job: job_1583556491124_0003\n",
      "2020-03-07 05:09:01,994 [JobControl] INFO  org.apache.hadoop.mapred.YARNRunner - Job jar is not present. Not adding any jar to the list of resources.\n",
      "2020-03-07 05:09:02,073 [JobControl] INFO  org.apache.hadoop.yarn.client.api.impl.YarnClientImpl - Submitted application application_1583556491124_0003\n",
      "2020-03-07 05:09:02,101 [JobControl] INFO  org.apache.hadoop.mapreduce.Job - The url to track the job: http://c2ae01c0b814:8088/proxy/application_1583556491124_0003/\n",
      "2020-03-07 05:09:17,184 [main] INFO  org.apache.hadoop.yarn.client.RMProxy - Connecting to ResourceManager at /0.0.0.0:8032\n",
      "2020-03-07 05:09:17,193 [main] INFO  org.apache.hadoop.mapred.ClientServiceDelegate - Application state is completed. FinalApplicationStatus=SUCCEEDED. Redirecting to job history server\n",
      "2020-03-07 05:09:17,355 [main] INFO  org.apache.hadoop.yarn.client.RMProxy - Connecting to ResourceManager at /0.0.0.0:8032\n",
      "2020-03-07 05:09:17,361 [main] INFO  org.apache.hadoop.mapred.ClientServiceDelegate - Application state is completed. FinalApplicationStatus=SUCCEEDED. Redirecting to job history server\n",
      "2020-03-07 05:09:17,384 [main] INFO  org.apache.hadoop.conf.Configuration.deprecation - mapred.reduce.tasks is deprecated. Instead, use mapreduce.job.reduces\n",
      "2020-03-07 05:09:17,386 [main] INFO  org.apache.hadoop.yarn.client.RMProxy - Connecting to ResourceManager at /0.0.0.0:8032\n",
      "2020-03-07 05:09:17,390 [main] INFO  org.apache.hadoop.mapred.ClientServiceDelegate - Application state is completed. FinalApplicationStatus=SUCCEEDED. Redirecting to job history server\n",
      "2020-03-07 05:09:17,444 [main] INFO  org.apache.hadoop.yarn.client.RMProxy - Connecting to ResourceManager at /0.0.0.0:8032\n",
      "2020-03-07 05:09:17,447 [main] INFO  org.apache.hadoop.mapred.ClientServiceDelegate - Application state is completed. FinalApplicationStatus=SUCCEEDED. Redirecting to job history server\n",
      "2020-03-07 05:09:17,470 [main] INFO  org.apache.hadoop.yarn.client.RMProxy - Connecting to ResourceManager at /0.0.0.0:8032\n",
      "2020-03-07 05:09:17,474 [main] INFO  org.apache.hadoop.mapred.ClientServiceDelegate - Application state is completed. FinalApplicationStatus=SUCCEEDED. Redirecting to job history server\n",
      "2020-03-07 05:09:17,496 [main] INFO  org.apache.hadoop.yarn.client.RMProxy - Connecting to ResourceManager at /0.0.0.0:8032\n",
      "2020-03-07 05:09:17,500 [main] INFO  org.apache.hadoop.mapred.ClientServiceDelegate - Application state is completed. FinalApplicationStatus=SUCCEEDED. Redirecting to job history server\n",
      "2020-03-07 05:09:17,549 [main] INFO  org.apache.hadoop.mapreduce.lib.input.FileInputFormat - Total input files to process : 1\n",
      "(1971-07-08,08,8,jue,jueves)\n",
      "(1974-05-23,23,23,jue,jueves)\n",
      "(1973-04-22,22,22,dom,domingo)\n",
      "(1975-01-29,29,29,mie,miercoles)\n",
      "(1974-07-03,03,3,mie,miercoles)\n",
      "(1974-10-18,18,18,vie,viernes)\n",
      "(1970-10-05,05,5,lun,lunes)\n",
      "(1969-02-24,24,24,lun,lunes)\n",
      "(1974-10-17,17,17,jue,jueves)\n",
      "(1975-02-28,28,28,vie,viernes)\n",
      "(1969-12-07,07,7,dom,domingo)\n",
      "(1973-12-24,24,24,lun,lunes)\n",
      "(1970-08-27,27,27,jue,jueves)\n",
      "(1972-12-12,12,12,mar,martes)\n",
      "(1970-07-01,01,1,mie,miercoles)\n",
      "(1974-02-11,11,11,lun,lunes)\n",
      "(1973-04-01,01,1,dom,domingo)\n",
      "(1973-04-29,29,29,dom,domingo)\n"
     ]
    }
   ],
   "source": [
    "!pig -execute 'run question.pig'"
   ]
  },
  {
   "cell_type": "code",
   "execution_count": 67,
   "metadata": {},
   "outputs": [
    {
     "name": "stdout",
     "output_type": "stream",
     "text": [
      "rm: `input/*': No such file or directory\n",
      "rm: `output/*': No such file or directory\n",
      "rmdir: `input': No such file or directory\n",
      "rmdir: `output': No such file or directory\n"
     ]
    }
   ],
   "source": [
    "!hadoop fs -rm output/*\n",
    "!hadoop fs -rmdir output"
   ]
  },
  {
   "cell_type": "code",
   "execution_count": null,
   "metadata": {},
   "outputs": [],
   "source": []
  },
  {
   "cell_type": "code",
   "execution_count": 19,
   "metadata": {},
   "outputs": [
    {
     "name": "stdout",
     "output_type": "stream",
     "text": [
      "2020-03-06 02:57:36,195 [main] INFO  org.apache.hadoop.conf.Configuration.deprecation - mapred.job.tracker is deprecated. Instead, use mapreduce.jobtracker.address\n",
      "2020-03-06 02:57:37,316 [main] INFO  org.apache.hadoop.conf.Configuration.deprecation - mapred.textoutputformat.separator is deprecated. Instead, use mapreduce.output.textoutputformat.separator\n",
      "2020-03-06 02:57:37,565 [main] INFO  org.apache.hadoop.yarn.client.RMProxy - Connecting to ResourceManager at /0.0.0.0:8032\n",
      "2020-03-06 02:57:37,711 [main] INFO  org.apache.hadoop.conf.Configuration.deprecation - mapred.job.reduce.markreset.buffer.percent is deprecated. Instead, use mapreduce.reduce.markreset.buffer.percent\n",
      "2020-03-06 02:57:37,714 [main] INFO  org.apache.hadoop.conf.Configuration.deprecation - mapred.output.compress is deprecated. Instead, use mapreduce.output.fileoutputformat.compress\n",
      "2020-03-06 02:57:37,725 [main] INFO  org.apache.hadoop.conf.Configuration.deprecation - mapred.submit.replication is deprecated. Instead, use mapreduce.client.submit.file.replication\n",
      "2020-03-06 02:57:37,981 [main] INFO  org.apache.hadoop.conf.Configuration.deprecation - mapred.job.tracker.http.address is deprecated. Instead, use mapreduce.jobtracker.http.address\n",
      "2020-03-06 02:57:37,987 [JobControl] INFO  org.apache.hadoop.yarn.client.RMProxy - Connecting to ResourceManager at /0.0.0.0:8032\n",
      "2020-03-06 02:57:38,005 [JobControl] INFO  org.apache.hadoop.conf.Configuration.deprecation - mapred.task.id is deprecated. Instead, use mapreduce.task.attempt.id\n",
      "2020-03-06 02:57:38,066 [JobControl] WARN  org.apache.hadoop.mapreduce.JobResourceUploader - No job jar file set.  User classes may not be found. See Job or Job#setJar(String).\n",
      "2020-03-06 02:57:38,084 [JobControl] INFO  org.apache.hadoop.mapreduce.lib.input.FileInputFormat - Total input files to process : 1\n",
      "2020-03-06 02:57:38,141 [JobControl] INFO  org.apache.hadoop.mapreduce.JobSubmitter - number of splits:1\n",
      "2020-03-06 02:57:38,234 [JobControl] INFO  org.apache.hadoop.mapreduce.JobSubmitter - Submitting tokens for job: job_1583444260122_0125\n",
      "2020-03-06 02:57:38,370 [JobControl] INFO  org.apache.hadoop.mapred.YARNRunner - Job jar is not present. Not adding any jar to the list of resources.\n",
      "2020-03-06 02:57:38,430 [JobControl] INFO  org.apache.hadoop.yarn.client.api.impl.YarnClientImpl - Submitted application application_1583444260122_0125\n",
      "2020-03-06 02:57:38,455 [JobControl] INFO  org.apache.hadoop.mapreduce.Job - The url to track the job: http://33aae64a9c2c:8088/proxy/application_1583444260122_0125/\n",
      "2020-03-06 02:57:53,570 [main] INFO  org.apache.hadoop.yarn.client.RMProxy - Connecting to ResourceManager at /0.0.0.0:8032\n",
      "2020-03-06 02:57:53,579 [main] INFO  org.apache.hadoop.mapred.ClientServiceDelegate - Application state is completed. FinalApplicationStatus=SUCCEEDED. Redirecting to job history server\n",
      "2020-03-06 02:57:53,688 [main] INFO  org.apache.hadoop.yarn.client.RMProxy - Connecting to ResourceManager at /0.0.0.0:8032\n",
      "2020-03-06 02:57:53,693 [main] INFO  org.apache.hadoop.mapred.ClientServiceDelegate - Application state is completed. FinalApplicationStatus=SUCCEEDED. Redirecting to job history server\n",
      "2020-03-06 02:57:53,715 [main] INFO  org.apache.hadoop.conf.Configuration.deprecation - mapred.reduce.tasks is deprecated. Instead, use mapreduce.job.reduces\n",
      "2020-03-06 02:57:53,717 [main] INFO  org.apache.hadoop.yarn.client.RMProxy - Connecting to ResourceManager at /0.0.0.0:8032\n",
      "2020-03-06 02:57:53,719 [main] INFO  org.apache.hadoop.mapred.ClientServiceDelegate - Application state is completed. FinalApplicationStatus=SUCCEEDED. Redirecting to job history server\n",
      "2020-03-06 02:57:53,762 [main] INFO  org.apache.hadoop.yarn.client.RMProxy - Connecting to ResourceManager at /0.0.0.0:8032\n",
      "2020-03-06 02:57:53,765 [main] INFO  org.apache.hadoop.mapred.ClientServiceDelegate - Application state is completed. FinalApplicationStatus=SUCCEEDED. Redirecting to job history server\n",
      "2020-03-06 02:57:53,790 [main] INFO  org.apache.hadoop.yarn.client.RMProxy - Connecting to ResourceManager at /0.0.0.0:8032\n",
      "2020-03-06 02:57:53,794 [main] INFO  org.apache.hadoop.mapred.ClientServiceDelegate - Application state is completed. FinalApplicationStatus=SUCCEEDED. Redirecting to job history server\n",
      "2020-03-06 02:57:53,813 [main] INFO  org.apache.hadoop.yarn.client.RMProxy - Connecting to ResourceManager at /0.0.0.0:8032\n",
      "2020-03-06 02:57:53,816 [main] INFO  org.apache.hadoop.mapred.ClientServiceDelegate - Application state is completed. FinalApplicationStatus=SUCCEEDED. Redirecting to job history server\n",
      "**********************************************************************\n",
      "File \"grader.py\", line 4, in __main__\n",
      "Failed example:\n",
      "    run_answer() # doctest: +NORMALIZE_WHITESPACE\n",
      "Expected:\n",
      "    1971-07-08,jul,07,7\n",
      "    1974-05-23,may,05,5\n",
      "    1973-04-22,abr,04,4\n",
      "    1975-01-29,ene,01,1\n",
      "    1974-07-03,jul,07,7\n",
      "    1974-10-18,oct,10,10\n",
      "    1970-10-05,oct,10,10\n",
      "    1969-02-24,feb,02,2\n",
      "    1974-10-17,oct,10,10\n",
      "    1975-02-28,feb,02,2\n",
      "    1969-12-07,dic,12,12\n",
      "    1973-12-24,dic,12,12\n",
      "    1970-08-27,ago,08,8\n",
      "    1972-12-12,dic,12,12\n",
      "    1970-07-01,jul,07,7\n",
      "    1974-02-11,feb,02,2\n",
      "    1973-04-01,abr,04,4\n",
      "    1973-04-29,abr,04,4\n",
      "    <BLANKLINE>\n",
      "Got:\n",
      "    1971-07-08,jul,07,7\n",
      "    1974-05-23,may,05,5\n",
      "    1973-04-22,apr,04,4\n",
      "    1975-01-29,jan,01,1\n",
      "    1974-07-03,jul,07,7\n",
      "    1974-10-18,oct,10,10\n",
      "    1970-10-05,oct,10,10\n",
      "    1969-02-24,feb,02,2\n",
      "    1974-10-17,oct,10,10\n",
      "    1975-02-28,feb,02,2\n",
      "    1969-12-07,dec,12,12\n",
      "    1973-12-24,dec,12,12\n",
      "    1970-08-27,aug,08,8\n",
      "    1972-12-12,dec,12,12\n",
      "    1970-07-01,jul,07,7\n",
      "    1974-02-11,feb,02,2\n",
      "    1973-04-01,apr,04,4\n",
      "    1973-04-29,apr,04,4\n",
      "    <BLANKLINE>\n",
      "**********************************************************************\n",
      "1 items had failures:\n",
      "   1 of   1 in __main__\n",
      "***Test Failed*** 1 failures.\n",
      "\n",
      "\n"
     ]
    }
   ],
   "source": [
    "!python3 grader.py"
   ]
  },
  {
   "cell_type": "code",
   "execution_count": null,
   "metadata": {},
   "outputs": [],
   "source": []
  }
 ],
 "metadata": {
  "kernelspec": {
   "display_name": "Python 3",
   "language": "python",
   "name": "python3"
  },
  "language_info": {
   "codemirror_mode": {
    "name": "ipython",
    "version": 3
   },
   "file_extension": ".py",
   "mimetype": "text/x-python",
   "name": "python",
   "nbconvert_exporter": "python",
   "pygments_lexer": "ipython3",
   "version": "3.6.9"
  }
 },
 "nbformat": 4,
 "nbformat_minor": 4
}
