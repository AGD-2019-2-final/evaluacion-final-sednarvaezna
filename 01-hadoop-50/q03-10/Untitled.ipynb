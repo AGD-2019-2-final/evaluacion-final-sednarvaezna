{
 "cells": [
  {
   "cell_type": "code",
   "execution_count": 1,
   "metadata": {},
   "outputs": [
    {
     "name": "stdout",
     "output_type": "stream",
     "text": [
      "Overwriting mapper.py\n"
     ]
    }
   ],
   "source": [
    "%%writefile mapper.py\n",
    "\n",
    "import sys\n",
    "#\n",
    "# >>> Escriba el codigo del mapper a partir de este punto <<<\n",
    "#\n",
    "#!/usr/bin/env python3\n",
    "if __name__ == \"__main__\":\n",
    "\tfor line in sys.stdin:\n",
    "\t\t# Setting some defaults\n",
    "\t\tline=line.strip()\n",
    "\t\tsplits=line.split(\",\")\n",
    "\t\tsys.stdout.write(\"{}\\t{}\\n\".format(splits[1],splits[0]))\n"
   ]
  },
  {
   "cell_type": "code",
   "execution_count": 2,
   "metadata": {},
   "outputs": [],
   "source": [
    "!chmod -x mapper.py"
   ]
  },
  {
   "cell_type": "code",
   "execution_count": 7,
   "metadata": {},
   "outputs": [
    {
     "name": "stdout",
     "output_type": "stream",
     "text": [
      "1\td\n",
      "2\tc\n",
      "3\ta\n",
      "4\te\n",
      "5\tf\n",
      "6\tb\n"
     ]
    }
   ],
   "source": [
    "!cat ./data.csv | python3 mapper.py | sort"
   ]
  },
  {
   "cell_type": "code",
   "execution_count": 3,
   "metadata": {},
   "outputs": [
    {
     "name": "stdout",
     "output_type": "stream",
     "text": [
      "Overwriting reducer.py\n"
     ]
    }
   ],
   "source": [
    "%%writefile reducer.py\n",
    "\n",
    "import sys\n",
    "#\n",
    "# >>> Escriba el codigo del mapper a partir de este punto <<<\n",
    "#\n",
    "#!/usr/bin/env python3\n",
    "if __name__ == \"__main__\":\n",
    "\tfor line in sys.stdin:\n",
    "\t\t# Setting some defaults\n",
    "\t\tline=line.strip()\n",
    "\t\tsplits=line.split(\"\\t\")\n",
    "\t\tsys.stdout.write(\"{},{}\\n\".format(splits[1],splits[0]))\n"
   ]
  },
  {
   "cell_type": "code",
   "execution_count": 4,
   "metadata": {},
   "outputs": [],
   "source": [
    "!chmod -x reducer.py"
   ]
  },
  {
   "cell_type": "code",
   "execution_count": 6,
   "metadata": {},
   "outputs": [],
   "source": [
    "!cat ./data.csv | python3 mapper.py | sort | python3 reducer.py | python3 grader.py"
   ]
  },
  {
   "cell_type": "code",
   "execution_count": null,
   "metadata": {},
   "outputs": [],
   "source": []
  }
 ],
 "metadata": {
  "kernelspec": {
   "display_name": "Python 3",
   "language": "python",
   "name": "python3"
  },
  "language_info": {
   "codemirror_mode": {
    "name": "ipython",
    "version": 3
   },
   "file_extension": ".py",
   "mimetype": "text/x-python",
   "name": "python",
   "nbconvert_exporter": "python",
   "pygments_lexer": "ipython3",
   "version": "3.6.9"
  }
 },
 "nbformat": 4,
 "nbformat_minor": 4
}
