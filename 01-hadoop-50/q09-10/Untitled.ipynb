{
 "cells": [
  {
   "cell_type": "code",
   "execution_count": 39,
   "metadata": {},
   "outputs": [
    {
     "name": "stdout",
     "output_type": "stream",
     "text": [
      "Overwriting mapper.py\n"
     ]
    }
   ],
   "source": [
    "%%writefile mapper.py\n",
    "import sys\n",
    "#\n",
    "# >>> Escriba el codigo del mapper a partir de este punto <<<\n",
    "#\n",
    "#!/usr/bin/env python3\n",
    "if __name__ == \"__main__\":\n",
    "\tfor line in sys.stdin:\n",
    "\t\t# Setting some defaults\n",
    "\t\tline=line.strip()\n",
    "\t\tsplits=line.split(\"   \")\n",
    "\t\tif len(splits[2]) == 1:\n",
    "\t\t\tsys.stdout.write(\"00{}\\t{}\\t{}\\n\".format(splits[2],splits[0],splits[1]))\n",
    "\t\telif len(splits[2]) == 2:\n",
    "\t\t\tsys.stdout.write(\"0{}\\t{}\\t{}\\n\".format(splits[2],splits[0],splits[1]))\n",
    "\t\telse:\n",
    "\t\t\tsys.stdout.write(\"{}\\t{}\\t{}\\n\".format(splits[2],splits[0],splits[1]))\n"
   ]
  },
  {
   "cell_type": "code",
   "execution_count": 40,
   "metadata": {},
   "outputs": [],
   "source": [
    "!chmod +x mapper.py"
   ]
  },
  {
   "cell_type": "code",
   "execution_count": 41,
   "metadata": {},
   "outputs": [
    {
     "name": "stdout",
     "output_type": "stream",
     "text": [
      "001\tC\t1994-07-27\n",
      "002\tC\t1991-02-12\n",
      "004\tA\t1990-07-22\n",
      "005\tA\t1990-09-26\n",
      "006\tB\t1997-04-09\n",
      "007\tE\t1998-09-14\n",
      "008\tE\t1993-01-27\n",
      "009\tA\t1988-04-27\n",
      "010\tA\t1990-10-06\n",
      "010\tC\t1994-01-25\n"
     ]
    }
   ],
   "source": [
    "!cat ./data.csv | python3 mapper.py | sort | head"
   ]
  },
  {
   "cell_type": "code",
   "execution_count": 42,
   "metadata": {},
   "outputs": [
    {
     "name": "stdout",
     "output_type": "stream",
     "text": [
      "Overwriting reducer.py\n"
     ]
    }
   ],
   "source": [
    "%%writefile reducer.py\n",
    "#!/usr/bin/env python\n",
    "\n",
    "import sys\n",
    "\n",
    "##\n",
    "## Esta funcion reduce los elementos que\n",
    "## tienen la misma clave\n",
    "##\n",
    "\n",
    "if __name__ == '__main__':\n",
    "\n",
    "    curkey = None\n",
    "    suma = 0\n",
    "    counter = 0\n",
    "\n",
    "    ##\n",
    "    ## cada linea de texto recibida es una\n",
    "    ## entrada clave \\tabulador valor\n",
    "    ##\n",
    "    for line in sys.stdin:\n",
    "        line = line.strip()\n",
    "        val, key, date = line.split(\"\\t\")\n",
    "        val = int(val)\n",
    "        \n",
    "        \n",
    "        if counter <= 5:\n",
    "            ##\n",
    "            ## No se ha cambiado de clave. Aca se\n",
    "            ## acumulan los valores para la misma clave.\n",
    "            ##\n",
    "            sys.stdout.write(\"{}\\t{}\\t{}\\n\".format(key,date,val))\n",
    "            counter += 1\n"
   ]
  },
  {
   "cell_type": "code",
   "execution_count": 43,
   "metadata": {},
   "outputs": [],
   "source": [
    "!chmod +x reducer.py"
   ]
  },
  {
   "cell_type": "code",
   "execution_count": 44,
   "metadata": {},
   "outputs": [],
   "source": [
    "!cat ./data.csv | python3 mapper.py | sort | python3 reducer.py | python3 grader.py"
   ]
  },
  {
   "cell_type": "code",
   "execution_count": null,
   "metadata": {},
   "outputs": [],
   "source": []
  }
 ],
 "metadata": {
  "kernelspec": {
   "display_name": "Python 3",
   "language": "python",
   "name": "python3"
  },
  "language_info": {
   "codemirror_mode": {
    "name": "ipython",
    "version": 3
   },
   "file_extension": ".py",
   "mimetype": "text/x-python",
   "name": "python",
   "nbconvert_exporter": "python",
   "pygments_lexer": "ipython3",
   "version": "3.6.9"
  }
 },
 "nbformat": 4,
 "nbformat_minor": 4
}
