{
 "cells": [
  {
   "cell_type": "code",
   "execution_count": 49,
   "metadata": {},
   "outputs": [
    {
     "name": "stdout",
     "output_type": "stream",
     "text": [
      "Overwriting mapper.py\n"
     ]
    }
   ],
   "source": [
    "%%writefile mapper.py\n",
    "\n",
    "import sys\n",
    "#\n",
    "# >>> Escriba el codigo del mapper a partir de este punto <<<\n",
    "#\n",
    "#!/usr/bin/env python3\n",
    "if __name__ == \"__main__\":\n",
    "\tfor line in sys.stdin:\n",
    "\t\t# Setting some defaults\n",
    "\t\tline=line.strip()\n",
    "\t\tsplits=line.split(\"   \")\n",
    "\t\tsys.stdout.write(\"{}\\t{}\\t{}\\n\".format(splits[1],splits[0],splits[2]))"
   ]
  },
  {
   "cell_type": "code",
   "execution_count": 50,
   "metadata": {},
   "outputs": [],
   "source": [
    "!chmod -x mapper.py"
   ]
  },
  {
   "cell_type": "code",
   "execution_count": 51,
   "metadata": {},
   "outputs": [
    {
     "name": "stdout",
     "output_type": "stream",
     "text": [
      "1985-02-12\tE\t16\n",
      "1988-04-27\tA\t12\n",
      "1990-02-09\tE\t18\n",
      "1990-05-03\tE\t16\n",
      "1990-07-22\tA\t18\n",
      "1990-08-31\tA\t12\n",
      "1990-09-05\tA\t11\n",
      "1990-09-26\tA\t14\n",
      "1990-10-06\tA\t10\n",
      "1990-10-10\tD\t15\n",
      "1991-02-12\tC\t13\n",
      "1991-02-18\tE\t14\n",
      "1991-10-01\tB\t15\n",
      "1992-08-22\tA\t14\n",
      "1992-09-19\tA\t18\n",
      "1993-01-11\tA\t14\n",
      "1993-01-27\tE\t13\n",
      "1993-03-02\tB\t14\n",
      "1993-05-08\tA\t16\n",
      "1993-07-21\tE\t17\n",
      "1993-12-27\tE\t18\n",
      "1994-01-25\tC\t10\n",
      "1994-02-14\tE\t10\n",
      "1994-07-27\tC\t10\n",
      "1994-08-30\tB\t17\n",
      "1994-09-09\tC\t15\n",
      "1994-10-25\tA\t13\n",
      "1995-04-25\tE\t16\n",
      "1995-08-23\tB\t10\n",
      "1995-09-06\tB\t14\n",
      "1997-04-09\tB\t14\n",
      "1997-12-15\tA\t13\n",
      "1998-09-14\tE\t16\n",
      "1998-11-22\tB\t13\n",
      "1999-01-14\tE\t15\n",
      "1999-06-11\tB\t12\n",
      "1999-08-28\tB\t14\n",
      "1999-09-10\tE\t11\n",
      "1999-10-21\tB\t13\n",
      "1999-12-06\tE\t12\n"
     ]
    }
   ],
   "source": [
    "!cat ./data.csv | python3 mapper.py | sort"
   ]
  },
  {
   "cell_type": "code",
   "execution_count": 52,
   "metadata": {},
   "outputs": [
    {
     "name": "stdout",
     "output_type": "stream",
     "text": [
      "Overwriting reducer.py\n"
     ]
    }
   ],
   "source": [
    "%%writefile reducer.py\n",
    "\n",
    "import sys\n",
    "#\n",
    "# >>> Escriba el codigo del mapper a partir de este punto <<<\n",
    "#\n",
    "#!/usr/bin/env python3\n",
    "if __name__ == \"__main__\":\n",
    "\tfor line in sys.stdin:\n",
    "\t\t# Setting some defaults\n",
    "\t\tline=line.strip()\n",
    "\t\tsplits=line.split(\"\\t\")\n",
    "\t\tsys.stdout.write(\"{},{},{}\\n\".format(splits[1],splits[0],splits[2]))\n"
   ]
  },
  {
   "cell_type": "code",
   "execution_count": 53,
   "metadata": {},
   "outputs": [],
   "source": [
    "!chmod -x reducer.py"
   ]
  },
  {
   "cell_type": "code",
   "execution_count": 54,
   "metadata": {},
   "outputs": [
    {
     "name": "stdout",
     "output_type": "stream",
     "text": [
      "E,1985-02-12,16\n",
      "A,1988-04-27,12\n",
      "E,1990-02-09,18\n",
      "E,1990-05-03,16\n",
      "A,1990-07-22,18\n",
      "A,1990-08-31,12\n",
      "A,1990-09-05,11\n",
      "A,1990-09-26,14\n",
      "A,1990-10-06,10\n",
      "D,1990-10-10,15\n",
      "C,1991-02-12,13\n",
      "E,1991-02-18,14\n",
      "B,1991-10-01,15\n",
      "A,1992-08-22,14\n",
      "A,1992-09-19,18\n",
      "A,1993-01-11,14\n",
      "E,1993-01-27,13\n",
      "B,1993-03-02,14\n",
      "A,1993-05-08,16\n",
      "E,1993-07-21,17\n",
      "E,1993-12-27,18\n",
      "C,1994-01-25,10\n",
      "E,1994-02-14,10\n",
      "C,1994-07-27,10\n",
      "B,1994-08-30,17\n",
      "C,1994-09-09,15\n",
      "A,1994-10-25,13\n",
      "E,1995-04-25,16\n",
      "B,1995-08-23,10\n",
      "B,1995-09-06,14\n",
      "B,1997-04-09,14\n",
      "A,1997-12-15,13\n",
      "E,1998-09-14,16\n",
      "B,1998-11-22,13\n",
      "E,1999-01-14,15\n",
      "B,1999-06-11,12\n",
      "B,1999-08-28,14\n",
      "E,1999-09-10,11\n",
      "B,1999-10-21,13\n",
      "E,1999-12-06,12\n"
     ]
    }
   ],
   "source": [
    "!cat ./data.csv | python3 mapper.py | sort | python3 reducer.py"
   ]
  },
  {
   "cell_type": "code",
   "execution_count": null,
   "metadata": {},
   "outputs": [],
   "source": []
  }
 ],
 "metadata": {
  "kernelspec": {
   "display_name": "Python 3",
   "language": "python",
   "name": "python3"
  },
  "language_info": {
   "codemirror_mode": {
    "name": "ipython",
    "version": 3
   },
   "file_extension": ".py",
   "mimetype": "text/x-python",
   "name": "python",
   "nbconvert_exporter": "python",
   "pygments_lexer": "ipython3",
   "version": "3.6.9"
  }
 },
 "nbformat": 4,
 "nbformat_minor": 4
}
