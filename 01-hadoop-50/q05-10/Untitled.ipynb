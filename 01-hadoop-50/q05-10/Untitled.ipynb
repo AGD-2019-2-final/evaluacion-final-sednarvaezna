{
 "cells": [
  {
   "cell_type": "code",
   "execution_count": 4,
   "metadata": {},
   "outputs": [
    {
     "name": "stdout",
     "output_type": "stream",
     "text": [
      "Overwriting mapper.py\n"
     ]
    }
   ],
   "source": [
    "%%writefile mapper.py\n",
    "\n",
    "import sys\n",
    "#\n",
    "# >>> Escriba el codigo del mapper a partir de este punto <<<\n",
    "#\n",
    "#!/usr/bin/env python3\n",
    "if __name__ == \"__main__\":\n",
    "\tfor line in sys.stdin:\n",
    "\t\t# Setting some defaults\n",
    "\t\tline=line.strip()\n",
    "\t\tsplits=line.split(\"   \")\n",
    "\t\tsplits=splits[1].split(\"-\")        \n",
    "\t\tsys.stdout.write(\"{}\\t1\\n\".format(splits[1]))"
   ]
  },
  {
   "cell_type": "code",
   "execution_count": 5,
   "metadata": {},
   "outputs": [],
   "source": [
    "!chmod -x mapper.py"
   ]
  },
  {
   "cell_type": "code",
   "execution_count": 6,
   "metadata": {},
   "outputs": [
    {
     "name": "stdout",
     "output_type": "stream",
     "text": [
      "01\t1\n",
      "01\t1\n",
      "01\t1\n",
      "01\t1\n",
      "02\t1\n",
      "02\t1\n",
      "02\t1\n",
      "02\t1\n",
      "02\t1\n",
      "03\t1\n",
      "04\t1\n",
      "04\t1\n",
      "04\t1\n",
      "05\t1\n",
      "05\t1\n",
      "06\t1\n",
      "07\t1\n",
      "07\t1\n",
      "07\t1\n",
      "08\t1\n",
      "08\t1\n",
      "08\t1\n",
      "08\t1\n",
      "08\t1\n",
      "09\t1\n",
      "09\t1\n",
      "09\t1\n",
      "09\t1\n",
      "09\t1\n",
      "09\t1\n",
      "09\t1\n",
      "10\t1\n",
      "10\t1\n",
      "10\t1\n",
      "10\t1\n",
      "10\t1\n",
      "11\t1\n",
      "12\t1\n",
      "12\t1\n",
      "12\t1\n"
     ]
    }
   ],
   "source": [
    "!cat ./data.csv | python3 mapper.py | sort"
   ]
  },
  {
   "cell_type": "code",
   "execution_count": 19,
   "metadata": {},
   "outputs": [
    {
     "name": "stdout",
     "output_type": "stream",
     "text": [
      "Overwriting reducer.py\n"
     ]
    }
   ],
   "source": [
    "%%writefile reducer.py\n",
    "\n",
    "import sys\n",
    "#\n",
    "# >>> Escriba el codigo del mapper a partir de este punto <<<\n",
    "#\n",
    "#!/usr/bin/env python3\n",
    "if __name__ == \"__main__\":\n",
    "\ttotal = 0\n",
    "\tactualkey=None\n",
    "\tfor line in sys.stdin:\n",
    "\t\t\n",
    "\t\t# Setting some defaults\n",
    "\t\t\n",
    "\t\tkey,value =line.split(\"\\t\")\n",
    "\t\tvalue = int(value)\n",
    "        \n",
    "\t\tif actualkey==key:\n",
    "\t\t\ttotal = total + value\n",
    "            \n",
    "\t\telse:\n",
    "\t\t\tif actualkey is not None:\n",
    "\t\t\t\tsys.stdout.write(\"{}\\t{}\\n\".format(actualkey, total))\n",
    "\t\t\tactualkey=key\n",
    "\t\t\ttotal = value\n",
    "\tsys.stdout.write(\"{}\\t{}\\n\".format(actualkey, total))\n"
   ]
  },
  {
   "cell_type": "code",
   "execution_count": 20,
   "metadata": {},
   "outputs": [],
   "source": [
    "!chmod -x reducer.py"
   ]
  },
  {
   "cell_type": "code",
   "execution_count": 22,
   "metadata": {},
   "outputs": [],
   "source": [
    "!cat ./data.csv | python3 mapper.py | sort | python3 reducer.py | python3 grader.py"
   ]
  },
  {
   "cell_type": "code",
   "execution_count": null,
   "metadata": {},
   "outputs": [],
   "source": []
  }
 ],
 "metadata": {
  "kernelspec": {
   "display_name": "Python 3",
   "language": "python",
   "name": "python3"
  },
  "language_info": {
   "codemirror_mode": {
    "name": "ipython",
    "version": 3
   },
   "file_extension": ".py",
   "mimetype": "text/x-python",
   "name": "python",
   "nbconvert_exporter": "python",
   "pygments_lexer": "ipython3",
   "version": "3.6.9"
  }
 },
 "nbformat": 4,
 "nbformat_minor": 4
}
